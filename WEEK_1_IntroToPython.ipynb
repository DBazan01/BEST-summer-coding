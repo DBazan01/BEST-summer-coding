{
  "nbformat": 4,
  "nbformat_minor": 0,
  "metadata": {
    "colab": {
      "name": "WEEK 1: IntroToPython.ipynb",
      "provenance": [],
      "authorship_tag": "ABX9TyNj2PTNP9amAl1oMOVkFKTn",
      "include_colab_link": true
    },
    "kernelspec": {
      "name": "python3",
      "display_name": "Python 3"
    }
  },
  "cells": [
    {
      "cell_type": "markdown",
      "metadata": {
        "id": "view-in-github",
        "colab_type": "text"
      },
      "source": [
        "<a href=\"https://colab.research.google.com/github/jessllrr/BEST-summer-coding/blob/master/WEEK_1_IntroToPython.ipynb\" target=\"_parent\"><img src=\"https://colab.research.google.com/assets/colab-badge.svg\" alt=\"Open In Colab\"/></a>"
      ]
    },
    {
      "cell_type": "markdown",
      "metadata": {
        "id": "1kcJ1HLHC8zU",
        "colab_type": "text"
      },
      "source": [
        "# What is Python?\n",
        "In the world of programming, there are **high-level**, **mid-level**, and **low-level languages**. What makes a language rank higher than the other?\n",
        "\n",
        "\n",
        "> **Abstraction...**\n",
        "This is a fancy word which just means: how much work does the program do for you? Computers can only do so many things - it is programming which guides it to do complex, amazing things with its limited abilities. A high-level language manages to perform a task in less comands than a low-level one would. Therefore, high-level languages are more efficient and more 'readable'.\n",
        "\n",
        "# Compilers\n",
        "\n",
        "#Variables, expressions, and statements\n",
        "\n",
        "\n",
        "\n",
        "\n",
        "\n",
        "\n",
        "\n"
      ]
    }
  ]
}